{
  "nbformat": 4,
  "nbformat_minor": 0,
  "metadata": {
    "colab": {
      "provenance": [],
      "gpuType": "T4",
      "include_colab_link": true
    },
    "kernelspec": {
      "name": "python3",
      "display_name": "Python 3"
    },
    "language_info": {
      "name": "python"
    },
    "accelerator": "GPU"
  },
  "cells": [
    {
      "cell_type": "markdown",
      "metadata": {
        "id": "view-in-github",
        "colab_type": "text"
      },
      "source": [
        "<a href=\"https://colab.research.google.com/github/RyamAlmalki/Pixial2Prediction/blob/master/3_RESNET_Model_Analysis.ipynb\" target=\"_parent\"><img src=\"https://colab.research.google.com/assets/colab-badge.svg\" alt=\"Open In Colab\"/></a>"
      ]
    },
    {
      "cell_type": "markdown",
      "source": [
        "# Image Classification by Fine-Tuned ResNet on the CIFAR-10 Dataset\n",
        "\n",
        "## Why This Notebook Matters!\n",
        "\n",
        "Imagine you have thousands of images and need to sort them into categories like airplanes, dogs, or frogs. Doing it manually would be exhausting, right? That's where this notebook comes in!\n",
        "\n",
        "Here, we'll train a computer to recognize these images for us. We'll use a pre-trained ResNet50 model, which is already really good at recognizing images, and fine-tune it to make it even better for our specific task.\n",
        "\n",
        "### What You'll Learn:\n",
        "1. How to load and explore the CIFAR-10 dataset.\n",
        "2. Why preprocessing is crucial.\n",
        "3. The magic of transfer learning with ResNet50.\n",
        "4. How to train and evaluate an image classification model.\n",
        "5. Testing the model on images outside the dataset.\n",
        "\n",
        "By the end, you'll have a model that can classify images with impressive accuracy, and you'll understand the steps it took to get there. Let the image recognition journey begin!\n",
        "\n"
      ],
      "metadata": {
        "id": "ouZJOB7rkxlb"
      }
    },
    {
      "cell_type": "markdown",
      "source": [
        "## Step 1: Importing the Libraries\n",
        "\n",
        "### Why These Libraries?\n",
        "\n",
        " **torch**: This is PyTorch, the backbone of our deep learning project. It helps us define, train, and evaluate neural networks.\n",
        "2. **numpy**: A handy library for mathematical operations and handling arrays.\n",
        "3. **random**: Adds randomness to certain operations, useful for data splitting.\n",
        "4. **torchvision**: Provides tools and datasets tailored for computer vision tasks.\n",
        "   - `datasets`: For accessing image datasets like CIFAR-10.\n",
        "   - `transforms`: For data preprocessing and augmentation.\n",
        "   - `models`: Contains pre-trained models like ResNet50.\n",
        "5. **DataLoader & random_split**: For efficiently loading and splitting data into training, validation, and test sets.\n",
        "6. **torch.nn and torch.optim**: For defining the model architecture and optimizing it during training.\n",
        "7. **matplotlib.pyplot**: For visualizing data, loss, and accuracy trends.\n"
      ],
      "metadata": {
        "id": "PePxLqI3ocPG"
      }
    },
    {
      "cell_type": "code",
      "execution_count": null,
      "metadata": {
        "id": "rhaD8ULZV9BP"
      },
      "outputs": [],
      "source": [
        "import torch\n",
        "import numpy as np\n",
        "import random\n",
        "from torchvision import datasets, transforms, models\n",
        "from torch.utils.data import DataLoader, random_split, Subset\n",
        "import torch.nn as nn\n",
        "import torch.optim as optim\n",
        "import matplotlib.pyplot as plt"
      ]
    },
    {
      "cell_type": "markdown",
      "source": [
        "- **random_seed**: A fixed number to initialize randomness.\n",
        "- **torch.manual_seed()**: Ensures all random processes in PyTorch are consistent.\n",
        "- **np.random.seed()**: Makes NumPy random operations reproducible.\n",
        "- **random.seed()**: Keeps Python's native random operations predictable.\n",
        "- **torch.backends.cudnn**: Configures PyTorch's behavior on CUDA devices.\n",
        "  - `deterministic = True`: Forces deterministic behavior.\n",
        "  - `benchmark = False`: Prevents dynamic optimizations that could affect reproducibility.\n",
        "\n",
        "By doing this, our training results will remain consistent and comparable across different runs."
      ],
      "metadata": {
        "id": "vlEig04d336Z"
      }
    },
    {
      "cell_type": "markdown",
      "source": [
        "## Step 2: Setting Random Seeds\n",
        "\n",
        "### Why Set Random Seeds?\n",
        "\n",
        "Randomness is a double-edged sword in machine learning. It helps in creating variations (e.g., during data splitting), but without control, it can make results inconsistent. By setting random seeds, we ensure that every time we run the notebook, we get the same results. It's like following a well-documented recipe to bake a cake—you know exactly how it will turn out!\n"
      ],
      "metadata": {
        "id": "4Zppf-CxpNFa"
      }
    },
    {
      "cell_type": "code",
      "source": [
        "random_seed = 42 # Define seed value for random number generation.\n",
        "torch.manual_seed(random_seed) # Sets the seed for PyTorch.\n",
        "np.random.seed(random_seed) # Sets the seed for NumPy.\n",
        "random.seed(random_seed) # Sets the seed for Python's random module.\n",
        "# Ensures reproducibility for operations on CUDA (if available).\n",
        "torch.backends.cudnn.deterministic = True\n",
        "torch.backends.cudnn.benchmark = False"
      ],
      "metadata": {
        "id": "JiWnuBSTW9IX"
      },
      "execution_count": null,
      "outputs": []
    },
    {
      "cell_type": "markdown",
      "source": [
        "This line checks if a CUDA-enabled GPU is available. If so, it sets the device to \"cuda\" (GPU), otherwise, it sets it to \"cpu\". Then it print the chosen one."
      ],
      "metadata": {
        "id": "HCeKA4nxq6to"
      }
    },
    {
      "cell_type": "code",
      "source": [
        "device = torch.device(\"cuda\" if torch.cuda.is_available() else \"cpu\")\n",
        "print(f\"Using device: {device}\")"
      ],
      "metadata": {
        "id": "T19d0UR_XU9i",
        "colab": {
          "base_uri": "https://localhost:8080/"
        },
        "outputId": "f905d866-e2ff-4b00-8313-eac203f37e68"
      },
      "execution_count": null,
      "outputs": [
        {
          "output_type": "stream",
          "name": "stdout",
          "text": [
            "Using device: cuda\n"
          ]
        }
      ]
    },
    {
      "cell_type": "markdown",
      "source": [
        "## Step 3: Loading and Exploring the Dataset\n",
        "\n",
        "### Visualize and Analyze the CIFAR-10 Dataset\n",
        "\n",
        "To better understand our dataset, we will visualize some random images and analyze the distribution of images across the classes.\n",
        "\n",
        "\n",
        "\n"
      ],
      "metadata": {
        "id": "UITuG2lcrRXU"
      }
    },
    {
      "cell_type": "code",
      "source": [
        "# Visualize 16 random images from the dataset.\n",
        "def visualize_raw_dataset(num_samples=16):\n",
        "\n",
        "    # Load the raw CIFAR-10 dataset.\n",
        "    raw_dataset = datasets.CIFAR10(root='./data/cifar10', train=True, download=True)\n",
        "    images, labels = raw_dataset.data, raw_dataset.targets\n",
        "    classes = raw_dataset.classes\n",
        "\n",
        "    # Randomly select images.\n",
        "    indices = random.sample(range(len(images)), num_samples)\n",
        "    selected_images = [images[i] for i in indices]\n",
        "    selected_labels = [labels[i] for i in indices]\n",
        "\n",
        "    # Plot grid of images.\n",
        "    fig, axes = plt.subplots(int(num_samples ** 0.5), int(num_samples ** 0.5), figsize=(10, 10))\n",
        "    for img, lbl, ax in zip(selected_images, selected_labels, axes.ravel()):\n",
        "        ax.imshow(img)\n",
        "        ax.set_title(classes[lbl])\n",
        "        ax.axis('off')\n",
        "\n",
        "    plt.tight_layout()\n",
        "    plt.show()\n",
        "\n",
        "# Display dataset statistics (class distribution).\n",
        "def dataset_statistics():\n",
        "\n",
        "    # Load raw CIFAR-10 dataset.\n",
        "    raw_dataset = datasets.CIFAR10(root='./data/cifar10', train=True, download=True)\n",
        "    labels = raw_dataset.targets\n",
        "    classes = raw_dataset.classes\n",
        "\n",
        "    # Count images per class.\n",
        "    class_counts = [labels.count(i) for i in range(len(classes))]\n",
        "\n",
        "    # Print class distribution.\n",
        "    print(\"Class Distribution:\")\n",
        "    for cls, count in zip(classes, class_counts):\n",
        "        print(f\"{cls}: {count}\")\n",
        "\n",
        "    # Plot class distribution.\n",
        "    plt.figure(figsize=(10, 5))\n",
        "    plt.bar(classes, class_counts, color='skyblue')\n",
        "    plt.title(\"Class Distribution in CIFAR-10 Dataset\")\n",
        "    plt.xlabel(\"Classes\")\n",
        "    plt.ylabel(\"Number of Images\")\n",
        "    plt.show()\n",
        "\n",
        "\n",
        "# Print the ruslts of the previous two functions.\n",
        "print(\"Visualizing raw dataset:\")\n",
        "visualize_raw_dataset(num_samples=16)\n",
        "\n",
        "print(\"\\nDataset statistics:\")\n",
        "dataset_statistics()"
      ],
      "metadata": {
        "colab": {
          "base_uri": "https://localhost:8080/",
          "height": 1000
        },
        "id": "IW3n8A0WcNDM",
        "outputId": "a9a958e9-1081-4d2b-f12d-19340b9a0d66"
      },
      "execution_count": null,
      "outputs": [
        {
          "output_type": "stream",
          "name": "stdout",
          "text": [
            "Visualizing raw dataset:\n",
            "Downloading https://www.cs.toronto.edu/~kriz/cifar-10-python.tar.gz to ./data/cifar10/cifar-10-python.tar.gz\n"
          ]
        },
        {
          "output_type": "stream",
          "name": "stderr",
          "text": [
            "100%|██████████| 170M/170M [00:03<00:00, 43.7MB/s]\n"
          ]
        },
        {
          "output_type": "stream",
          "name": "stdout",
          "text": [
            "Extracting ./data/cifar10/cifar-10-python.tar.gz to ./data/cifar10\n"
          ]
        },
        {
          "output_type": "display_data",
          "data": {
            "text/plain": [
              "<Figure size 1000x1000 with 16 Axes>"
            ],
            "image/png": "[encoded data removed]"
          },
          "metadata": {}
        },
        {
          "output_type": "stream",
          "name": "stdout",
          "text": [
            "\n",
            "Dataset statistics:\n",
            "Files already downloaded and verified\n",
            "Class Distribution:\n",
            "airplane: 5000\n",
            "automobile: 5000\n",
            "bird: 5000\n",
            "cat: 5000\n",
            "deer: 5000\n",
            "dog: 5000\n",
            "frog: 5000\n",
            "horse: 5000\n",
            "ship: 5000\n",
            "truck: 5000\n"
          ]
        },
        {
          "output_type": "display_data",
          "data": {
            "text/plain": [
              "<Figure size 1000x500 with 1 Axes>"
            ],
            "image/png": "[encoded data removed]"
          },
          "metadata": {}
        }
      ]
    },
    {
      "cell_type": "markdown",
      "source": [
        "### Explanation\n",
        "- **`visualize_raw_dataset`**:\n",
        "  - Loads the CIFAR-10 dataset.\n",
        "  - Randomly selects a specified number of images.\n",
        "  - Displays the images in a grid format with their corresponding labels.\n",
        "\n",
        "- **`dataset_statistics`**:\n",
        "  - Counts the number of images in each class.\n",
        "  - Prints the class distribution.\n",
        "  - Displays a bar chart of the distribution.\n",
        "\n",
        "These steps give us a better understanding of the dataset's structure and ensure there are no anomalies or imbalances before proceeding to training the model.\n",
        "\n",
        "\n"
      ],
      "metadata": {
        "id": "TcQUmNx0wDC1"
      }
    },
    {
      "cell_type": "markdown",
      "source": [
        "## Step 4: Implementing Early Stopping\n",
        "\n",
        "### What is Early Stopping?\n",
        "Early stopping helps prevent overfitting by halting training when the validation loss stops improving for a specified number of epochs.\n"
      ],
      "metadata": {
        "id": "MtDJVjf97EBU"
      }
    },
    {
      "cell_type": "code",
      "source": [
        "class EarlyStopping:\n",
        "\n",
        "    def __init__(self, patience=5, verbose=False):\n",
        "        \"\"\"\n",
        "        Args:\n",
        "            patience (int): How many epochs to wait after last improvement.\n",
        "            verbose (bool): If True, prints a message for each validation loss improvement.\n",
        "        \"\"\"\n",
        "        self.patience = patience\n",
        "        self.verbose = verbose\n",
        "        self.counter = 0\n",
        "        self.best_loss = float('inf')\n",
        "        self.early_stop = False\n",
        "\n",
        "    def __call__(self, val_loss):\n",
        "        if val_loss < self.best_loss:\n",
        "            self.best_loss = val_loss\n",
        "            self.counter = 0  # Reset the counter if the loss improves.\n",
        "            if self.verbose:\n",
        "                print(f\"Validation loss improved to {val_loss:.4f}\")\n",
        "        else:\n",
        "            self.counter += 1\n",
        "            if self.verbose:\n",
        "                print(f\"No improvement in validation loss for {self.counter} epoch(s)\")\n",
        "            if self.counter >= self.patience:\n",
        "                self.early_stop = True"
      ],
      "metadata": {
        "id": "MtuYUzVngYp4"
      },
      "execution_count": null,
      "outputs": []
    },
    {
      "cell_type": "markdown",
      "source": [
        "### Explanation\n",
        "- **`patience`**: Number of epochs to wait after the last improvement in validation loss.\n",
        "- **`verbose`**: Provides detailed messages about improvements or lack thereof.\n",
        "- **`counter`**: Tracks how many consecutive epochs show no improvement.\n",
        "- **`best_loss`**: Keeps track of the best validation loss observed so far.\n",
        "- **`early_stop`**: Boolean flag to indicate if training should stop.\n",
        "\n",
        "This class will be used during training to monitor validation loss and halt training when necessary. Let's move to defining the training loop!\n"
      ],
      "metadata": {
        "id": "xzeIJf1n7M8e"
      }
    },
    {
      "cell_type": "markdown",
      "source": [
        "## Step 5: Dataset Loading and Preprocessing\n",
        "\n",
        "### Dataset Preparation\n",
        "To train our model effectively, we need to preprocess the CIFAR-10 dataset and split it into training, validation, and test sets. Below is the function used to achieve this:\n",
        "\n",
        "\n"
      ],
      "metadata": {
        "id": "JHuLNICWxdVO"
      }
    },
    {
      "cell_type": "code",
      "source": [
        "def load_dataset(total_sample_size=10000, val_split=0.1, test_split=0.2):\n",
        "    \"\"\"\n",
        "    Parameters:\n",
        "    - total_sample_size: Total number of samples to use for all sets.\n",
        "    - val_split: Fraction of total samples for the validation set.\n",
        "    - test_split: Fraction of total samples for the test set.\n",
        "\n",
        "    Returns:\n",
        "    - train_set, val_set, test_set: Split datasets.\n",
        "    - classes: List of class names.\n",
        "    \"\"\"\n",
        "    dataset_path = './data/cifar10'\n",
        "\n",
        "    # Define transformations.\n",
        "    transform_train = transforms.Compose([\n",
        "        transforms.RandomRotation(15),  # Randomly rotate images by up to 15 degrees.\n",
        "        transforms.ColorJitter(brightness=0.2, contrast=0.2, saturation=0.2),  # Randomly adjust brightness, contrast, saturation.\n",
        "        transforms.Resize((224, 224)),  # Resize images to match ResNet-50 input.\n",
        "        transforms.RandomCrop(224, padding=4),  # Crop with padding for augmentation.\n",
        "        transforms.RandomHorizontalFlip(),  # Flip images horizontally.\n",
        "        transforms.ToTensor(),  # Convert images to tensors.\n",
        "        transforms.Normalize((0.485, 0.456, 0.406), (0.229, 0.224, 0.225)),  # Normalize to ImageNet mean and std.\n",
        "    ])\n",
        "\n",
        "    transform_test = transforms.Compose([\n",
        "        transforms.Resize((224, 224)),  # Resize images to match ResNet-50 input.\n",
        "        transforms.ToTensor(),  # Convert images to tensors\n",
        "        transforms.Normalize((0.485, 0.456, 0.406), (0.229, 0.224, 0.225)),  # Normalize to ImageNet mean and std.\n",
        "    ])\n",
        "\n",
        "    # Load CIFAR-10 dataset.\n",
        "    full_dataset = datasets.CIFAR10(root=dataset_path, train=True, download=True, transform=transform_train)\n",
        "\n",
        "    # Randomly select a subset.\n",
        "    indices = torch.randperm(len(full_dataset))[:total_sample_size]\n",
        "    subset = Subset(full_dataset, indices)\n",
        "\n",
        "    # Calculate split sizes.\n",
        "    test_size = int(total_sample_size * test_split)\n",
        "    val_size = int(total_sample_size * val_split)\n",
        "    train_size = total_sample_size - test_size - val_size\n",
        "\n",
        "    # Split the dataset.\n",
        "    train_set, val_set, test_set = random_split(subset, [train_size, val_size, test_size])\n",
        "\n",
        "    # Update transformations for the test set.\n",
        "    test_set.dataset.transform = transform_test\n",
        "\n",
        "    return train_set, val_set, test_set, full_dataset.classes"
      ],
      "metadata": {
        "id": "l06QfPheWEEF"
      },
      "execution_count": null,
      "outputs": []
    },
    {
      "cell_type": "markdown",
      "source": [
        "### Explanation\n",
        "- **Transformations**:\n",
        "  - **`RandomRotation`**: Adds variety by rotating images.\n",
        "  - **`ColorJitter`**: Adjusts brightness, contrast, and saturation to simulate different lighting conditions.\n",
        "  - **`Resize`**: Ensures all images are the same size for the model input.\n",
        "  - **`RandomCrop` and `RandomHorizontalFlip`**: Augment data by cropping and flipping images.\n",
        "  - **`Normalize`**: Scales pixel values to match the distribution of the ImageNet dataset.\n",
        "\n",
        "- **Dataset Splitting**:\n",
        "  - A subset of the dataset is selected for faster training.\n",
        "  - The dataset is split into training, validation, and test sets based on user-defined proportions.\n",
        "\n",
        "This function ensures that the dataset is preprocessed and ready for training the ResNet50 model. Let’s move on to setting up the model!\n"
      ],
      "metadata": {
        "id": "bc-kOVH_9nzr"
      }
    },
    {
      "cell_type": "markdown",
      "source": [
        "## Step 6: Defining the Model\n",
        "\n",
        "### What is ResNet50?\n",
        "ResNet50 is a deep convolutional neural network with 50 layers, pre-trained on a large dataset (ImageNet). It is known for its residual connections, which help solve the vanishing gradient problem, allowing the network to be deep and effective.\n",
        "\n",
        "We will fine-tune ResNet50 to adapt it to the CIFAR-10 dataset. Fine-tuning involves modifying the pre-trained model slightly to work well for our specific task while leveraging the knowledge it has already learned.\n",
        "\n",
        "\n",
        "\n"
      ],
      "metadata": {
        "id": "Fxqo6V85zJjG"
      }
    },
    {
      "cell_type": "code",
      "source": [
        "def get_model(num_classes=10):\n",
        "    \"\"\"\n",
        "    Parameters:\n",
        "    - num_classes: Number of output classes.\n",
        "\n",
        "    Returns:\n",
        "    - model: Modified ResNet-50 model.\n",
        "    \"\"\"\n",
        "    model = models.resnet50(weights='IMAGENET1K_V1') # Load ResNet50 pre-trained on ImageNet.\n",
        "\n",
        "    # Replace the initial convolution layer to match CIFAR-10 input dimensions (3 channels).\n",
        "    model.conv1 = nn.Conv2d(3, 64, kernel_size=3, stride=1, padding=1, bias=False)\n",
        "\n",
        "    # Modify the fully connected (fc) layer for the target number of classes.\n",
        "    model.fc = nn.Sequential(\n",
        "    nn.Dropout(0.5), # Add dropout for regularization.\n",
        "    nn.Linear(model.fc.in_features, num_classes) # Adjust output to match number of classes.\n",
        "    )\n",
        "    return model"
      ],
      "metadata": {
        "id": "kvfNcXb3WJ6l"
      },
      "execution_count": null,
      "outputs": []
    },
    {
      "cell_type": "markdown",
      "source": [
        "### Explanation\n",
        "- **`models.resnet50(weights='IMAGENET1K_V1')`**: Loads a ResNet50 model pre-trained on ImageNet.\n",
        "- **`model.conv1`**: Updates the initial convolution layer to fit CIFAR-10's input image size.\n",
        "- **`nn.Sequential`**: Replaces the fully connected layer:\n",
        "  - **`nn.Dropout(0.5)`**: Adds regularization to prevent overfitting.\n",
        "  - **`nn.Linear`**: Adjusts the output layer for the specified number of classes (e.g., 10 for CIFAR-10).\n",
        "\n",
        "This function sets up a ResNet-50 model customized for CIFAR-10, ready for training with our dataset. Let’s proceed to the training loop!\n",
        "\n",
        "\n"
      ],
      "metadata": {
        "id": "G8_cB0BO1DvB"
      }
    },
    {
      "cell_type": "markdown",
      "source": [
        "## Step 7: Training and Evaluation\n",
        "\n",
        "### Functions for Model Training and Evaluation\n",
        "To train our model and evaluate its performance, we define two functions: `train` and `evaluate`. These functions handle the forward and backward passes, as well as the computation of metrics like loss and accuracy."
      ],
      "metadata": {
        "id": "0sl_LQe8Uvaj"
      }
    },
    {
      "cell_type": "code",
      "source": [
        "def train(model, dataloader, criterion, optimizer, device):\n",
        "  \"\"\"\n",
        "    Train the model for one epoch.\n",
        "\n",
        "    Parameters:\n",
        "    - model: The neural network to train.\n",
        "    - dataloader: DataLoader for training data.\n",
        "    - criterion: Loss function.\n",
        "    - optimizer: Optimization algorithm.\n",
        "    - device: Device to perform training on (CPU or GPU).\n",
        "\n",
        "    Returns:\n",
        "    - Average loss and accuracy for the epoch.\n",
        "    \"\"\"\n",
        "    model.train() # Set the model to training mode.\n",
        "    total_loss, correct, total = 0.0, 0, 0\n",
        "\n",
        "    for inputs, labels in dataloader:\n",
        "        inputs, labels = inputs.to(device), labels.to(device) # Move data to the specified device.\n",
        "        optimizer.zero_grad() # Reset gradients.\n",
        "        outputs = model(inputs) # Forward pass.\n",
        "        loss = criterion(outputs, labels)  # Compute the loss.\n",
        "        loss.backward() # Backpropagation.\n",
        "        optimizer.step()  # Update model weights.\n",
        "\n",
        "        total_loss += loss.item() * inputs.size(0) # Accumulate loss for the epoch.\n",
        "        _, predicted = torch.max(outputs, 1) # Get predictions.\n",
        "        correct += (predicted == labels).sum().item() # Count correct predictions.\n",
        "        total += labels.size(0)  # Count total samples.\n",
        "\n",
        "    return total_loss / total, 100.0 * correct / total # Return average loss and accuracy.\n",
        "\n",
        "\n",
        "def evaluate(model, dataloader, criterion, device):\n",
        "  \"\"\"\n",
        "    Evaluate the model on validation or test data.\n",
        "\n",
        "    Parameters:\n",
        "    - model: The neural network to evaluate.\n",
        "    - dataloader: DataLoader for validation or test data.\n",
        "    - criterion: Loss function.\n",
        "    - device: Device to perform evaluation on (CPU or GPU).\n",
        "\n",
        "    Returns:\n",
        "    - Average loss and accuracy for the evaluation.\n",
        "    \"\"\"\n",
        "    model.eval() # Set the model to evaluation mode.\n",
        "    total_loss, correct, total = 0.0, 0, 0\n",
        "\n",
        "    with torch.no_grad(): # Disable gradient computation for evaluation.\n",
        "        for inputs, labels in dataloader:\n",
        "            inputs, labels = inputs.to(device), labels.to(device) # Move data to the specified device.\n",
        "            outputs = model(inputs) # Forward pass.\n",
        "            loss = criterion(outputs, labels) # Compute the loss.\n",
        "\n",
        "            total_loss += loss.item() * inputs.size(0) # Accumulate loss for the evaluation.\n",
        "            _, predicted = torch.max(outputs, 1) # Get predictions.\n",
        "            correct += (predicted == labels).sum().item() # Count correct predictions.\n",
        "            total += labels.size(0) # Count total samples.\n",
        "\n",
        "    return total_loss / total, 100.0 * correct / total # Return average loss and accuracy."
      ],
      "metadata": {
        "id": "l6QYRgSvWNsd"
      },
      "execution_count": null,
      "outputs": []
    },
    {
      "cell_type": "markdown",
      "source": [
        "### Explanation\n",
        "- **`train` Function**:\n",
        "  - Puts the model in training mode (`model.train()`).\n",
        "  - Processes data in batches using the `dataloader`.\n",
        "  - Performs forward and backward passes, computes loss, and updates model parameters.\n",
        "  - Computes and returns average loss and accuracy for the epoch.\n",
        "\n",
        "- **`evaluate` Function**:\n",
        "  - Puts the model in evaluation mode (`model.eval()`).\n",
        "  - Processes data without computing gradients (`torch.no_grad()`), reducing memory usage and speeding up computation.\n",
        "  - Computes loss and accuracy for validation or test data.\n",
        "\n",
        "These functions form the backbone of the training loop, allowing us to monitor the model's performance over epochs. Let’s move on to integrating these into a complete training pipeline!\n"
      ],
      "metadata": {
        "id": "N4GIyimgV0sO"
      }
    },
    {
      "cell_type": "markdown",
      "source": [
        "## Step 8: Training Over Epochs with Early Stopping\n",
        "### Function for Training with Validation and Early Stopping\n",
        "This function manages the training process over multiple epochs, integrating early stopping based on validation loss and saving the best model.\n"
      ],
      "metadata": {
        "id": "8f0uWORrWa2o"
      }
    },
    {
      "cell_type": "code",
      "source": [
        "def train_epochs(model, trainloader, valloader, criterion, optimizer, device, num_epochs, patience=5, scheduler=None):\n",
        "    \"\"\"\n",
        "    Train the model with early stopping based on validation loss.\n",
        "\n",
        "    Parameters:\n",
        "    - model: The neural network model.\n",
        "    - trainloader: DataLoader for training data.\n",
        "    - valloader: DataLoader for validation data.\n",
        "    - criterion: Loss function.\n",
        "    - optimizer: Optimization algorithm.\n",
        "    - device: Device to run training on (CPU or GPU).\n",
        "    - num_epochs: Maximum number of epochs to train.\n",
        "    - patience: Number of epochs to wait for improvement before stopping early.\n",
        "\n",
        "    Returns:\n",
        "    - train_losses: List of training losses for each epoch.\n",
        "    - train_accuracies: List of training accuracies for each epoch.\n",
        "    - val_losses: List of validation losses for each epoch.\n",
        "    - val_accuracies: List of validation accuracies for each epoch.\n",
        "    \"\"\"\n",
        "    best_val_loss = float('inf') # Initialize the best validation loss as infinity.\n",
        "    train_losses, train_accuracies = [], [] # Lists to track training metrics.\n",
        "    val_losses, val_accuracies = [], [] # Lists to track validation metrics.\n",
        "\n",
        "    # Initialize early stopping\n",
        "    early_stopping = EarlyStopping(patience=patience, verbose=True)\n",
        "\n",
        "    for epoch in range(num_epochs):\n",
        "        print(f\"Epoch {epoch + 1}/{num_epochs}\") # Print epoch number.\n",
        "\n",
        "        # Training phase\n",
        "        train_loss, train_accuracy = train(model, trainloader, criterion, optimizer, device)\n",
        "        train_losses.append(train_loss) # Record training loss.\n",
        "        train_accuracies.append(train_accuracy)  # Record training accuracy.\n",
        "\n",
        "        # Validation phase\n",
        "        val_loss, val_accuracy = evaluate(model, valloader, criterion, device)\n",
        "        val_losses.append(val_loss) # Record validation loss.\n",
        "        val_accuracies.append(val_accuracy) # Record validation accuracy.\n",
        "\n",
        "        print(f\"Train Loss: {train_loss:.4f}, Train Accuracy: {train_accuracy:.2f}%\")\n",
        "        print(f\"Val Loss: {val_loss:.4f}, Val Accuracy: {val_accuracy:.2f}%\")\n",
        "\n",
        "        # Save the best model\n",
        "        if val_loss < best_val_loss: # Check if current validation loss is the best.\n",
        "            best_val_loss = val_loss # Update the best validation loss.\n",
        "            torch.save(model.state_dict(), 'best_model.pth') # Save the model's state.\n",
        "            print(\"Best model saved.\")\n",
        "\n",
        "             # Step the learning rate scheduler\n",
        "        if scheduler:\n",
        "            scheduler.step() # Adjust the learning rate if a scheduler is used.\n",
        "\n",
        "        # Check for early stopping\n",
        "        early_stopping(val_loss) # Update early stopping with the current validation loss.\n",
        "        if early_stopping.early_stop: # Stop training if the early stopping condition is met.\n",
        "            print(\"Early stopping triggered. Stopping training.\")\n",
        "            break\n",
        "\n",
        "    return train_losses, train_accuracies, val_losses, val_accuracies # Return all tracked metrics."
      ],
      "metadata": {
        "id": "Bl9ECNo8WU6X"
      },
      "execution_count": null,
      "outputs": []
    },
    {
      "cell_type": "markdown",
      "source": [
        "### Explanation\n",
        "- **Training Phase**:\n",
        "  - Calls the `train` function to compute training loss and accuracy for the current epoch.\n",
        "  - Appends these metrics to `train_losses` and `train_accuracies`.\n",
        "\n",
        "- **Validation Phase**:\n",
        "  - Calls the `evaluate` function to compute validation loss and accuracy.\n",
        "  - Appends these metrics to `val_losses` and `val_accuracies`.\n",
        "\n",
        "- **Early Stopping**:\n",
        "  - Monitors validation loss and stops training if no improvement is observed for `patience` epochs.\n",
        "\n",
        "- **Learning Rate Scheduler**:\n",
        "  - Adjusts the learning rate dynamically if a scheduler is provided.\n",
        "\n",
        "- **Model Checkpointing**:\n",
        "  - Saves the model state whenever a new best validation loss is observed.\n",
        "\n",
        "This function ensures efficient and robust training by incorporating validation monitoring, learning rate adjustments, and early stopping mechanisms.\n"
      ],
      "metadata": {
        "id": "MrINqTglXbJb"
      }
    },
    {
      "cell_type": "markdown",
      "source": [
        "## Step 9: Visualizing Metrics\n",
        "\n",
        "### Function for Plotting Training and Validation Metrics\n",
        "To understand the performance of the model during training, we visualize metrics such as loss and accuracy for both the training and validation datasets over all epochs.\n"
      ],
      "metadata": {
        "id": "zzCegko-YDmd"
      }
    },
    {
      "cell_type": "code",
      "source": [
        "def plot_metrics(train_losses, train_accuracies, val_losses, val_accuracies):\n",
        "    \"\"\"\n",
        "    Plot training and validation metrics (loss and accuracy) over epochs.\n",
        "\n",
        "    Parameters:\n",
        "    - train_losses: List of training losses.\n",
        "    - train_accuracies: List of training accuracies.\n",
        "    - val_losses: List of validation losses.\n",
        "    - val_accuracies: List of validation accuracies.\n",
        "    \"\"\"\n",
        "    epochs = range(1, len(train_losses) + 1) # Define the range of epochs.\n",
        "\n",
        "    # Plot Loss\n",
        "    plt.figure(figsize=(12, 5))\n",
        "    plt.subplot(1, 2, 1) # First subplot for loss.\n",
        "    plt.plot(epochs, train_losses, label='Training Loss') # Plot training loss.\n",
        "    plt.plot(epochs, val_losses, label='Validation Loss') # Plot validation loss.\n",
        "    plt.xlabel('Epochs')\n",
        "    plt.ylabel('Loss')\n",
        "    plt.title('Loss vs Epochs')\n",
        "    plt.legend()\n",
        "    plt.grid() # Add grid for better readability.\n",
        "\n",
        "    # Plot Accuracy\n",
        "    plt.subplot(1, 2, 2) # Second subplot for accuracy.\n",
        "    plt.plot(epochs, train_accuracies, label='Training Accuracy') # Plot training accuracy.\n",
        "    plt.plot(epochs, val_accuracies, label='Validation Accuracy') # Plot validation accuracy.\n",
        "    plt.xlabel('Epochs')\n",
        "    plt.ylabel('Accuracy')\n",
        "    plt.title('Accuracy vs Epochs')\n",
        "    plt.legend()\n",
        "    plt.grid() # Add grid for better readability.\n",
        "\n",
        "    plt.tight_layout() # Adjust subplots to fit in the figure.\n",
        "    plt.show() # Display the plots."
      ],
      "metadata": {
        "id": "2dDdBsShaOw1"
      },
      "execution_count": null,
      "outputs": []
    },
    {
      "cell_type": "markdown",
      "source": [
        "### Explanation\n",
        "- **Epochs**:\n",
        "  - The x-axis represents the number of epochs, starting from 1 to the total number of epochs.\n",
        "\n",
        "- **Loss Plot**:\n",
        "  - Displays how the training and validation losses change over epochs.\n",
        "  - Helps identify if the model is overfitting (e.g., training loss decreases but validation loss increases).\n",
        "\n",
        "- **Accuracy Plot**:\n",
        "  - Shows how training and validation accuracies evolve.\n",
        "  - Provides insights into whether the model is improving its predictions over time.\n",
        "\n",
        "- **Visualization Aids**:\n",
        "  - **`grid()`**: Adds a grid to the plots for easier interpretation.\n",
        "  - **`legend()`**: Differentiates between training and validation metrics.\n",
        "  - **`tight_layout()`**: Ensures the subplots fit well within the figure.\n",
        "\n",
        "This function provides a clear visual representation of the model's performance during training and validation, making it easier to diagnose issues and track progress.\n"
      ],
      "metadata": {
        "id": "yqWfQrFaYiV6"
      }
    },
    {
      "cell_type": "markdown",
      "source": [
        "## Step 10: Evaluating the Test Set\n",
        "\n",
        "### Function for Evaluating the Test Set\n",
        "After training and validating the model, the final step is to evaluate its performance on the test set. This helps gauge how well the model generalizes to unseen data.\n"
      ],
      "metadata": {
        "id": "vU3S7zPEYy93"
      }
    },
    {
      "cell_type": "code",
      "source": [
        "def evaluate_test_set(model, testloader, criterion, device):\n",
        "    \"\"\"\n",
        "    Evaluate the model on the test set.\n",
        "\n",
        "    Parameters:\n",
        "    - model: The trained model.\n",
        "    - testloader: DataLoader for test data.\n",
        "    - criterion: Loss function.\n",
        "    - device: Device to run evaluation on (CPU or GPU).\n",
        "\n",
        "    Returns:\n",
        "    - test_loss: Loss on the test set.\n",
        "    - test_accuracy: Accuracy on the test set.\n",
        "    \"\"\"\n",
        "    print(\"Evaluating on the test set...\")\n",
        "    test_loss, test_accuracy = evaluate(model, testloader, criterion, device) # Use the evaluate function.\n",
        "    print(f\"Test Loss: {test_loss:.4f}, Test Accuracy: {test_accuracy:.2f}%\") # Print the results.\n",
        "    return test_loss, test_accuracy"
      ],
      "metadata": {
        "id": "Rsz3MNOlaUs9"
      },
      "execution_count": null,
      "outputs": []
    },
    {
      "cell_type": "markdown",
      "source": [
        "### Explanation\n",
        "- **`evaluate` Function**:\n",
        "  - Used to calculate the test loss and accuracy. It operates similarly to the validation phase but on unseen test data.\n",
        "\n",
        "- **Metrics**:\n",
        "  - **`test_loss`**: Provides a measure of how well the model performs on the test set in terms of its loss function.\n",
        "  - **`test_accuracy`**: Reflects the percentage of correct predictions on the test set.\n",
        "\n",
        "- **Purpose**:\n",
        "  - This step ensures the model's performance is assessed on data it has never seen, offering a reliable indication of how it will perform in real-world scenarios."
      ],
      "metadata": {
        "id": "Ne8V_jJ0ZFBo"
      }
    },
    {
      "cell_type": "markdown",
      "source": [
        "## Step 11: Main Script Execution"
      ],
      "metadata": {
        "id": "BhYrQTj-Zb0r"
      }
    },
    {
      "cell_type": "code",
      "source": [
        "if __name__ == '__main__':\n",
        "    # Parameters\n",
        "    total_sample_size = 10000\n",
        "    val_split = 0.1\n",
        "    test_split = 0.2\n",
        "    num_epochs = 30\n",
        "    patience = 7\n",
        "    batch_size = 32\n",
        "    learning_rate = 0.01\n",
        "    weight_decay = 5e-4\n",
        "    momentum = 0.9\n",
        "\n",
        "    # Load and preprocess dataset\n",
        "    trainset, valset, testset, classes = load_dataset(\n",
        "        total_sample_size=total_sample_size,\n",
        "        val_split=val_split,\n",
        "        test_split=test_split\n",
        "    )\n",
        "    trainloader = DataLoader(trainset, batch_size=batch_size, shuffle=True, num_workers=2)\n",
        "    valloader = DataLoader(valset, batch_size=batch_size, shuffle=False, num_workers=2)\n",
        "    testloader = DataLoader(testset, batch_size=batch_size, shuffle=False, num_workers=2)\n",
        "\n",
        "    # Initialize model\n",
        "    model = get_model(num_classes=len(classes)).to(device)\n",
        "\n",
        "    # Define loss function, optimizer, and scheduler\n",
        "    criterion = nn.CrossEntropyLoss()\n",
        "    optimizer = optim.SGD(model.parameters(), lr=learning_rate, momentum=momentum, weight_decay=weight_decay)\n",
        "    scheduler = torch.optim.lr_scheduler.StepLR(optimizer, step_size=10, gamma=0.1)\n",
        "\n",
        "    # Train the model with early stopping and learning rate scheduler\n",
        "    train_losses, train_accuracies, val_losses, val_accuracies = train_epochs(\n",
        "    model, trainloader, valloader, criterion, optimizer, device, num_epochs, patience=patience, scheduler=scheduler\n",
        "    )\n",
        "\n",
        "    # Visualize metrics\n",
        "    plot_metrics(train_losses, train_accuracies, val_losses, val_accuracies)\n",
        "\n",
        "    # Evaluate the best model on the test set\n",
        "    model.load_state_dict(torch.load('best_model.pth'))\n",
        "    evaluate_test_set(model, testloader, criterion, device)"
      ],
      "metadata": {
        "colab": {
          "base_uri": "https://localhost:8080/",
          "height": 1000
        },
        "id": "qwC2iK7qaYUT",
        "outputId": "6a065838-3cea-4f31-d876-232539953d1f"
      },
      "execution_count": null,
      "outputs": [
        {
          "output_type": "stream",
          "name": "stdout",
          "text": [
            "Files already downloaded and verified\n"
          ]
        },
        {
          "output_type": "stream",
          "name": "stderr",
          "text": [
            "Downloading: \"https://download.pytorch.org/models/resnet50-0676ba61.pth\" to /root/.cache/torch/hub/checkpoints/resnet50-0676ba61.pth\n",
            "100%|██████████| 97.8M/97.8M [00:00<00:00, 153MB/s]\n"
          ]
        },
        {
          "output_type": "stream",
          "name": "stdout",
          "text": [
            "Epoch 1/30\n",
            "Train Loss: 1.8183, Train Accuracy: 35.03%\n",
            "Val Loss: 1.8587, Val Accuracy: 43.00%\n",
            "Best model saved.\n",
            "Validation loss improved to 1.8587\n",
            "Epoch 2/30\n",
            "Train Loss: 1.3026, Train Accuracy: 53.90%\n",
            "Val Loss: 1.1172, Val Accuracy: 64.50%\n",
            "Best model saved.\n",
            "Validation loss improved to 1.1172\n",
            "Epoch 3/30\n",
            "Train Loss: 1.0515, Train Accuracy: 63.57%\n",
            "Val Loss: 1.4218, Val Accuracy: 67.40%\n",
            "No improvement in validation loss for 1 epoch(s)\n",
            "Epoch 4/30\n",
            "Train Loss: 0.8755, Train Accuracy: 70.30%\n",
            "Val Loss: 0.9551, Val Accuracy: 67.70%\n",
            "Best model saved.\n",
            "Validation loss improved to 0.9551\n",
            "Epoch 5/30\n",
            "Train Loss: 0.7905, Train Accuracy: 72.94%\n",
            "Val Loss: 1.5559, Val Accuracy: 57.60%\n",
            "No improvement in validation loss for 1 epoch(s)\n",
            "Epoch 6/30\n",
            "Train Loss: 0.7205, Train Accuracy: 75.37%\n",
            "Val Loss: 1.0817, Val Accuracy: 69.20%\n",
            "No improvement in validation loss for 2 epoch(s)\n",
            "Epoch 7/30\n",
            "Train Loss: 0.6499, Train Accuracy: 77.76%\n",
            "Val Loss: 0.8178, Val Accuracy: 72.30%\n",
            "Best model saved.\n",
            "Validation loss improved to 0.8178\n",
            "Epoch 8/30\n",
            "Train Loss: 0.6140, Train Accuracy: 79.53%\n",
            "Val Loss: 0.6275, Val Accuracy: 79.60%\n",
            "Best model saved.\n",
            "Validation loss improved to 0.6275\n",
            "Epoch 9/30\n",
            "Train Loss: 0.5514, Train Accuracy: 81.24%\n",
            "Val Loss: 0.7948, Val Accuracy: 74.90%\n",
            "No improvement in validation loss for 1 epoch(s)\n",
            "Epoch 10/30\n",
            "Train Loss: 0.5295, Train Accuracy: 81.50%\n",
            "Val Loss: 0.6140, Val Accuracy: 79.70%\n",
            "Best model saved.\n",
            "Validation loss improved to 0.6140\n",
            "Epoch 11/30\n",
            "Train Loss: 0.3198, Train Accuracy: 89.04%\n",
            "Val Loss: 0.4421, Val Accuracy: 85.20%\n",
            "Best model saved.\n",
            "Validation loss improved to 0.4421\n",
            "Epoch 12/30\n",
            "Train Loss: 0.2505, Train Accuracy: 91.19%\n",
            "Val Loss: 0.4561, Val Accuracy: 84.90%\n",
            "No improvement in validation loss for 1 epoch(s)\n",
            "Epoch 13/30\n",
            "Train Loss: 0.2256, Train Accuracy: 92.13%\n",
            "Val Loss: 0.4264, Val Accuracy: 86.40%\n",
            "Best model saved.\n",
            "Validation loss improved to 0.4264\n",
            "Epoch 14/30\n",
            "Train Loss: 0.2069, Train Accuracy: 92.66%\n",
            "Val Loss: 0.4200, Val Accuracy: 87.70%\n",
            "Best model saved.\n",
            "Validation loss improved to 0.4200\n",
            "Epoch 15/30\n",
            "Train Loss: 0.1785, Train Accuracy: 93.73%\n",
            "Val Loss: 0.4424, Val Accuracy: 86.80%\n",
            "No improvement in validation loss for 1 epoch(s)\n",
            "Epoch 16/30\n",
            "Train Loss: 0.1802, Train Accuracy: 93.66%\n",
            "Val Loss: 0.3976, Val Accuracy: 86.20%\n",
            "Best model saved.\n",
            "Validation loss improved to 0.3976\n",
            "Epoch 17/30\n",
            "Train Loss: 0.1536, Train Accuracy: 94.63%\n",
            "Val Loss: 0.4143, Val Accuracy: 88.00%\n",
            "No improvement in validation loss for 1 epoch(s)\n",
            "Epoch 18/30\n",
            "Train Loss: 0.1506, Train Accuracy: 94.89%\n",
            "Val Loss: 0.4790, Val Accuracy: 84.70%\n",
            "No improvement in validation loss for 2 epoch(s)\n",
            "Epoch 19/30\n",
            "Train Loss: 0.1469, Train Accuracy: 94.80%\n",
            "Val Loss: 0.5122, Val Accuracy: 85.60%\n",
            "No improvement in validation loss for 3 epoch(s)\n",
            "Epoch 20/30\n",
            "Train Loss: 0.1357, Train Accuracy: 95.44%\n",
            "Val Loss: 0.4305, Val Accuracy: 87.10%\n",
            "No improvement in validation loss for 4 epoch(s)\n",
            "Epoch 21/30\n",
            "Train Loss: 0.1164, Train Accuracy: 95.91%\n",
            "Val Loss: 0.4369, Val Accuracy: 86.60%\n",
            "No improvement in validation loss for 5 epoch(s)\n",
            "Epoch 22/30\n",
            "Train Loss: 0.1089, Train Accuracy: 95.99%\n",
            "Val Loss: 0.4510, Val Accuracy: 87.20%\n",
            "No improvement in validation loss for 6 epoch(s)\n",
            "Epoch 23/30\n",
            "Train Loss: 0.1080, Train Accuracy: 96.09%\n",
            "Val Loss: 0.4342, Val Accuracy: 87.70%\n",
            "No improvement in validation loss for 7 epoch(s)\n",
            "Early stopping triggered. Stopping training.\n"
          ]
        },
        {
          "output_type": "display_data",
          "data": {
            "text/plain": [
              "<Figure size 1200x500 with 2 Axes>"
            ],
            "image/png": "[encoded data removed]"
          },
          "metadata": {}
        },
        {
          "output_type": "stream",
          "name": "stdout",
          "text": [
            "Evaluating on the test set...\n"
          ]
        },
        {
          "output_type": "stream",
          "name": "stderr",
          "text": [
            "<ipython-input-14-4758d23dd56c>:40: FutureWarning: You are using `torch.load` with `weights_only=False` (the current default value), which uses the default pickle module implicitly. It is possible to construct malicious pickle data which will execute arbitrary code during unpickling (See https://github.com/pytorch/pytorch/blob/main/SECURITY.md#untrusted-models for more details). In a future release, the default value for `weights_only` will be flipped to `True`. This limits the functions that could be executed during unpickling. Arbitrary objects will no longer be allowed to be loaded via this mode unless they are explicitly allowlisted by the user via `torch.serialization.add_safe_globals`. We recommend you start setting `weights_only=True` for any use case where you don't have full control of the loaded file. Please open an issue on GitHub for any issues related to this experimental feature.\n",
            "  model.load_state_dict(torch.load('best_model.pth'))\n"
          ]
        },
        {
          "output_type": "stream",
          "name": "stdout",
          "text": [
            "Test Loss: 0.4296, Test Accuracy: 86.75%\n"
          ]
        }
      ]
    },
    {
      "cell_type": "markdown",
      "source": [
        "### Explanation\n",
        "- **Parameter Initialization**:\n",
        "  - Specifies training parameters like batch size, learning rate, and number of epochs.\n",
        "\n",
        "- **Dataset Loading**:\n",
        "  - Calls `load_dataset` to prepare the training, validation, and test sets.\n",
        "  - Wraps datasets in DataLoader objects for efficient batch processing.\n",
        "\n",
        "- **Model Initialization**:\n",
        "  - Uses `get_model` to create the ResNet model tailored for the CIFAR-10 dataset.\n",
        "\n",
        "- **Training**:\n",
        "  - Executes the `train_epochs` function to train the model with early stopping and learning rate adjustments.\n",
        "\n",
        "- **Visualization**:\n",
        "  - Calls `plot_metrics` to display training and validation performance trends.\n",
        "\n",
        "- **Test Evaluation**:\n",
        "  - Loads the best model from training and evaluates it on the test set using `evaluate_test_set`.\n",
        "\n",
        "This main script ties all the components together, enabling the full training pipeline from data preparation to evaluation on the test set.\n"
      ],
      "metadata": {
        "id": "nrmaIhRpZkdJ"
      }
    },
    {
      "cell_type": "code",
      "source": [
        "import torch\n",
        "from google.colab import files\n",
        "from PIL import Image\n",
        "from torchvision import transforms"
      ],
      "metadata": {
        "id": "jugjDPLOfsGP"
      },
      "execution_count": null,
      "outputs": []
    },
    {
      "cell_type": "markdown",
      "source": [
        "## Step 12: Image Classification with Uploaded Images\n",
        "\n",
        "### Code for Classifying Uploaded Images\n",
        "This code allows you to upload images from outside the dataset, preprocess them, and classify them using the trained model.\n"
      ],
      "metadata": {
        "id": "dSu1djYBaaRR"
      }
    },
    {
      "cell_type": "code",
      "source": [
        "# Select the appropriate device (CPU or GPU)\n",
        "device = torch.device(\"cuda\" if torch.cuda.is_available() else \"cpu\")\n",
        "model = model.to(device)  # Ensure the model is on the correct device\n",
        "\n",
        "# Upload images using Google Colab's file upload utility\n",
        "uploaded = files.upload()\n",
        "\n",
        "# Preprocess the uploaded image\n",
        "def preprocess_image(image_path):\n",
        "    \"\"\"\n",
        "    Preprocess the uploaded image to match the CIFAR-10 dataset format.\n",
        "\n",
        "    - Resizes the image to 32x32 (CIFAR-10 input size).\n",
        "    - Converts the image to RGB format.\n",
        "    - Normalizes the image to CIFAR-10's range (-1 to 1).\n",
        "    \"\"\"\n",
        "\n",
        "    transform=transforms.Compose([\n",
        "      transforms.Resize((224, 224)),  # Resize\n",
        "      #transforms.Pad(4),            # Add padding if needed\n",
        "      transforms.ToTensor(),\n",
        "      transforms.Normalize((0.485, 0.456, 0.406), (0.229, 0.224, 0.225))\n",
        "    ])\n",
        "\n",
        "    # Open the image file\n",
        "    img = Image.open(image_path).convert(\"RGB\")  # Ensure 3 color channels (RGB)\n",
        "    img = transform(img)  # Apply transformations\n",
        "    img = img.unsqueeze(0)  # Add batch dimension (1, 3, 32, 32)\n",
        "    return img\n",
        "\n",
        "# Define CIFAR-10 class labels\n",
        "class_labels = ['airplane', 'automobile', 'bird', 'cat', 'deer',\n",
        "                'dog', 'frog', 'horse', 'ship', 'truck']\n",
        "\n",
        "# Predict the class of the uploaded image\n",
        "for filename in uploaded.keys():\n",
        "    # Preprocess the image\n",
        "    processed_image = preprocess_image(filename)\n",
        "    processed_image = processed_image.to(device)  # Ensure the image is on the correct device\n",
        "\n",
        "    # Perform inference\n",
        "    model.eval()  # Set the model to evaluation mode\n",
        "    with torch.no_grad():  # Disable gradient calculations for inference\n",
        "        outputs = model(processed_image)  # Forward pass\n",
        "        predicted_class = torch.argmax(outputs, axis=1).item()  # Get the predicted class index\n",
        "\n",
        "    # Print the predicted class label\n",
        "    print(f\"Image: {filename} - Predicted Class: {class_labels[predicted_class]}\")"
      ],
      "metadata": {
        "id": "6pjzCfOKmz_T",
        "colab": {
          "base_uri": "https://localhost:8080/",
          "height": 89
        },
        "outputId": "de61615a-344b-4d02-f593-5dabef7070b4"
      },
      "execution_count": null,
      "outputs": [
        {
          "output_type": "display_data",
          "data": {
            "text/plain": [
              "<IPython.core.display.HTML object>"
            ],
            "text/html": [
              "\n",
              "     <input type=\"file\" id=\"files-cb35947e-da62-4485-9774-146a4ac2a1e5\" name=\"files[]\" multiple disabled\n",
              "        style=\"border:none\" />\n",
              "     <output id=\"result-cb35947e-da62-4485-9774-146a4ac2a1e5\">\n",
              "      Upload widget is only available when the cell has been executed in the\n",
              "      current browser session. Please rerun this cell to enable.\n",
              "      </output>\n",
              "      <script>// Copyright 2017 Google LLC\n",
              "//\n",
              "// Licensed under the Apache License, Version 2.0 (the \"License\");\n",
              "// you may not use this file except in compliance with the License.\n",
              "// You may obtain a copy of the License at\n",
              "//\n",
              "//      http://www.apache.org/licenses/LICENSE-2.0\n",
              "//\n",
              "// Unless required by applicable law or agreed to in writing, software\n",
              "// distributed under the License is distributed on an \"AS IS\" BASIS,\n",
              "// WITHOUT WARRANTIES OR CONDITIONS OF ANY KIND, either express or implied.\n",
              "// See the License for the specific language governing permissions and\n",
              "// limitations under the License.\n",
              "\n",
              "/**\n",
              " * @fileoverview Helpers for google.colab Python module.\n",
              " */\n",
              "(function(scope) {\n",
              "function span(text, styleAttributes = {}) {\n",
              "  const element = document.createElement('span');\n",
              "  element.textContent = text;\n",
              "  for (const key of Object.keys(styleAttributes)) {\n",
              "    element.style[key] = styleAttributes[key];\n",
              "  }\n",
              "  return element;\n",
              "}\n",
              "\n",
              "// Max number of bytes which will be uploaded at a time.\n",
              "const MAX_PAYLOAD_SIZE = 100 * 1024;\n",
              "\n",
              "function _uploadFiles(inputId, outputId) {\n",
              "  const steps = uploadFilesStep(inputId, outputId);\n",
              "  const outputElement = document.getElementById(outputId);\n",
              "  // Cache steps on the outputElement to make it available for the next call\n",
              "  // to uploadFilesContinue from Python.\n",
              "  outputElement.steps = steps;\n",
              "\n",
              "  return _uploadFilesContinue(outputId);\n",
              "}\n",
              "\n",
              "// This is roughly an async generator (not supported in the browser yet),\n",
              "// where there are multiple asynchronous steps and the Python side is going\n",
              "// to poll for completion of each step.\n",
              "// This uses a Promise to block the python side on completion of each step,\n",
              "// then passes the result of the previous step as the input to the next step.\n",
              "function _uploadFilesContinue(outputId) {\n",
              "  const outputElement = document.getElementById(outputId);\n",
              "  const steps = outputElement.steps;\n",
              "\n",
              "  const next = steps.next(outputElement.lastPromiseValue);\n",
              "  return Promise.resolve(next.value.promise).then((value) => {\n",
              "    // Cache the last promise value to make it available to the next\n",
              "    // step of the generator.\n",
              "    outputElement.lastPromiseValue = value;\n",
              "    return next.value.response;\n",
              "  });\n",
              "}\n",
              "\n",
              "/**\n",
              " * Generator function which is called between each async step of the upload\n",
              " * process.\n",
              " * @param {string} inputId Element ID of the input file picker element.\n",
              " * @param {string} outputId Element ID of the output display.\n",
              " * @return {!Iterable<!Object>} Iterable of next steps.\n",
              " */\n",
              "function* uploadFilesStep(inputId, outputId) {\n",
              "  const inputElement = document.getElementById(inputId);\n",
              "  inputElement.disabled = false;\n",
              "\n",
              "  const outputElement = document.getElementById(outputId);\n",
              "  outputElement.innerHTML = '';\n",
              "\n",
              "  const pickedPromise = new Promise((resolve) => {\n",
              "    inputElement.addEventListener('change', (e) => {\n",
              "      resolve(e.target.files);\n",
              "    });\n",
              "  });\n",
              "\n",
              "  const cancel = document.createElement('button');\n",
              "  inputElement.parentElement.appendChild(cancel);\n",
              "  cancel.textContent = 'Cancel upload';\n",
              "  const cancelPromise = new Promise((resolve) => {\n",
              "    cancel.onclick = () => {\n",
              "      resolve(null);\n",
              "    };\n",
              "  });\n",
              "\n",
              "  // Wait for the user to pick the files.\n",
              "  const files = yield {\n",
              "    promise: Promise.race([pickedPromise, cancelPromise]),\n",
              "    response: {\n",
              "      action: 'starting',\n",
              "    }\n",
              "  };\n",
              "\n",
              "  cancel.remove();\n",
              "\n",
              "  // Disable the input element since further picks are not allowed.\n",
              "  inputElement.disabled = true;\n",
              "\n",
              "  if (!files) {\n",
              "    return {\n",
              "      response: {\n",
              "        action: 'complete',\n",
              "      }\n",
              "    };\n",
              "  }\n",
              "\n",
              "  for (const file of files) {\n",
              "    const li = document.createElement('li');\n",
              "    li.append(span(file.name, {fontWeight: 'bold'}));\n",
              "    li.append(span(\n",
              "        `(${file.type || 'n/a'}) - ${file.size} bytes, ` +\n",
              "        `last modified: ${\n",
              "            file.lastModifiedDate ? file.lastModifiedDate.toLocaleDateString() :\n",
              "                                    'n/a'} - `));\n",
              "    const percent = span('0% done');\n",
              "    li.appendChild(percent);\n",
              "\n",
              "    outputElement.appendChild(li);\n",
              "\n",
              "    const fileDataPromise = new Promise((resolve) => {\n",
              "      const reader = new FileReader();\n",
              "      reader.onload = (e) => {\n",
              "        resolve(e.target.result);\n",
              "      };\n",
              "      reader.readAsArrayBuffer(file);\n",
              "    });\n",
              "    // Wait for the data to be ready.\n",
              "    let fileData = yield {\n",
              "      promise: fileDataPromise,\n",
              "      response: {\n",
              "        action: 'continue',\n",
              "      }\n",
              "    };\n",
              "\n",
              "    // Use a chunked sending to avoid message size limits. See b/62115660.\n",
              "    let position = 0;\n",
              "    do {\n",
              "      const length = Math.min(fileData.byteLength - position, MAX_PAYLOAD_SIZE);\n",
              "      const chunk = new Uint8Array(fileData, position, length);\n",
              "      position += length;\n",
              "\n",
              "      const base64 = btoa(String.fromCharCode.apply(null, chunk));\n",
              "      yield {\n",
              "        response: {\n",
              "          action: 'append',\n",
              "          file: file.name,\n",
              "          data: base64,\n",
              "        },\n",
              "      };\n",
              "\n",
              "      let percentDone = fileData.byteLength === 0 ?\n",
              "          100 :\n",
              "          Math.round((position / fileData.byteLength) * 100);\n",
              "      percent.textContent = `${percentDone}% done`;\n",
              "\n",
              "    } while (position < fileData.byteLength);\n",
              "  }\n",
              "\n",
              "  // All done.\n",
              "  yield {\n",
              "    response: {\n",
              "      action: 'complete',\n",
              "    }\n",
              "  };\n",
              "}\n",
              "\n",
              "scope.google = scope.google || {};\n",
              "scope.google.colab = scope.google.colab || {};\n",
              "scope.google.colab._files = {\n",
              "  _uploadFiles,\n",
              "  _uploadFilesContinue,\n",
              "};\n",
              "})(self);\n",
              "</script> "
            ]
          },
          "metadata": {}
        },
        {
          "output_type": "stream",
          "name": "stdout",
          "text": [
            "Saving cat.jpeg to cat.jpeg\n",
            "Image: cat.jpeg - Predicted Class: cat\n"
          ]
        }
      ]
    },
    {
      "cell_type": "markdown",
      "source": [
        "### Explanation\n",
        "- **Image Upload**:\n",
        "  - Uses Colab's `files.upload()` utility to allow users to upload images for classification.\n",
        "\n",
        "- **Preprocessing**:\n",
        "  - Resizes the image to 224x224 to match ResNet-50 input dimensions.\n",
        "  - Converts the image to a tensor and normalizes it to ImageNet statistics.\n",
        "\n",
        "- **Inference**:\n",
        "  - Sets the model to evaluation mode with `model.eval()`.\n",
        "  - Uses `torch.no_grad()` to prevent gradient computation during inference.\n",
        "\n",
        "- **Output**:\n",
        "  - Predicts the class index using `torch.argmax`.\n",
        "  - Maps the index to the class label using `class_labels` and prints the result.\n",
        "  - Confirms if the prediction was correct when the image is classified as a \"cat\".\n",
        "\n",
        "\n",
        "This implementation enables seamless classification of images uploaded via Google Colab.\n"
      ],
      "metadata": {
        "id": "xNcZ_wWbajhT"
      }
    },
    {
      "cell_type": "markdown",
      "source": [
        "## Step 14: Discussion of Results\n",
        "\n",
        "### Training and Validation Performance\n",
        "The model was trained for 23 epochs before early stopping was triggered, as the validation loss did not improve for 7 consecutive epochs. Key metrics from the training process:\n",
        "- Final **Training Loss**: 0.1080\n",
        "- Final **Validation Loss**: 0.4342\n",
        "- Final **Training Accuracy**: 96.09%\n",
        "- Final **Validation Accuracy**: 87.70%\n",
        "\n",
        "These results indicate that the model was able to generalize well, achieving a high validation accuracy while maintaining a relatively low validation loss.\n",
        "\n",
        "### Loss and Accuracy Trends\n",
        "The plots show:\n",
        "1. **Loss vs. Epochs**:\n",
        "   - Training loss decreases steadily, indicating effective learning.\n",
        "   - Validation loss decreases initially but plateaus after several epochs, suggesting the model reached its optimal performance early.\n",
        "2. **Accuracy vs. Epochs**:\n",
        "   - Training accuracy improves consistently, reaching 96%.\n",
        "   - Validation accuracy follows a similar trend but stabilizes at 87.70%, showing good generalization.\n",
        "\n",
        "### Test Set Evaluation\n",
        "On the unseen test set, the model achieved:\n",
        "- **Test Loss**: 0.4296\n",
        "- **Test Accuracy**: 86.75%\n",
        "\n",
        "This performance demonstrates that the model maintains its generalization capabilities even on new data, with only a slight drop in accuracy compared to the validation set.\n",
        "\n",
        "### Summary\n",
        "- **Strengths**:\n",
        "  - The model achieves high accuracy on both validation and test sets, indicating strong generalization.\n",
        "  - Early stopping prevented overfitting, as evidenced by the stable validation loss.\n",
        "\n",
        "- **Limitations**:\n",
        "  - The validation loss plateau suggests limited further improvement, which could be due to the dataset complexity or model capacity.\n",
        "\n",
        "These results demonstrate the effectiveness of the model and training pipeline, showcasing its suitability for image classification tasks.\n"
      ],
      "metadata": {
        "id": "1oiPhC-zbr_n"
      }
    }
  ]
}